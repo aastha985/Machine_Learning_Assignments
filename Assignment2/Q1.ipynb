{
  "nbformat": 4,
  "nbformat_minor": 0,
  "metadata": {
    "colab": {
      "name": "Q1.ipynb",
      "provenance": [],
      "collapsed_sections": []
    },
    "kernelspec": {
      "name": "python3",
      "display_name": "Python 3"
    },
    "language_info": {
      "name": "python"
    }
  },
  "cells": [
    {
      "cell_type": "markdown",
      "metadata": {
        "id": "aXjqUjZheuAe"
      },
      "source": [
        "# Importing Modules"
      ]
    },
    {
      "cell_type": "code",
      "metadata": {
        "id": "j5ITUkTAcWEt"
      },
      "source": [
        "import pandas as pd\n",
        "import numpy as np\n",
        "import random\n",
        "import matplotlib.pyplot as plt\n",
        "import os\n",
        "from sklearn.tree import DecisionTreeClassifier\n",
        "from sklearn.preprocessing import LabelEncoder\n",
        "from sklearn.model_selection import train_test_split\n",
        "from sklearn.ensemble import AdaBoostClassifier"
      ],
      "execution_count": null,
      "outputs": []
    },
    {
      "cell_type": "markdown",
      "metadata": {
        "id": "dshjermBe3vo"
      },
      "source": [
        "# Importing Dataset"
      ]
    },
    {
      "cell_type": "code",
      "metadata": {
        "colab": {
          "base_uri": "https://localhost:8080/",
          "height": 207
        },
        "id": "Hpe_ZbxPe3Ep",
        "outputId": "9934df78-d9ac-4065-83d6-47d628c43f62"
      },
      "source": [
        "df = pd.read_csv('data.csv')\n",
        "df.drop(columns=['No'],inplace=True)\n",
        "df.head()"
      ],
      "execution_count": null,
      "outputs": [
        {
          "output_type": "execute_result",
          "data": {
            "text/html": [
              "<div>\n",
              "<style scoped>\n",
              "    .dataframe tbody tr th:only-of-type {\n",
              "        vertical-align: middle;\n",
              "    }\n",
              "\n",
              "    .dataframe tbody tr th {\n",
              "        vertical-align: top;\n",
              "    }\n",
              "\n",
              "    .dataframe thead th {\n",
              "        text-align: right;\n",
              "    }\n",
              "</style>\n",
              "<table border=\"1\" class=\"dataframe\">\n",
              "  <thead>\n",
              "    <tr style=\"text-align: right;\">\n",
              "      <th></th>\n",
              "      <th>year</th>\n",
              "      <th>month</th>\n",
              "      <th>day</th>\n",
              "      <th>hour</th>\n",
              "      <th>pm2.5</th>\n",
              "      <th>DEWP</th>\n",
              "      <th>TEMP</th>\n",
              "      <th>PRES</th>\n",
              "      <th>cbwd</th>\n",
              "      <th>Iws</th>\n",
              "      <th>Is</th>\n",
              "      <th>Ir</th>\n",
              "    </tr>\n",
              "  </thead>\n",
              "  <tbody>\n",
              "    <tr>\n",
              "      <th>0</th>\n",
              "      <td>2010</td>\n",
              "      <td>1</td>\n",
              "      <td>1</td>\n",
              "      <td>0</td>\n",
              "      <td>NaN</td>\n",
              "      <td>-21</td>\n",
              "      <td>-11.0</td>\n",
              "      <td>1021.0</td>\n",
              "      <td>NW</td>\n",
              "      <td>1.79</td>\n",
              "      <td>0</td>\n",
              "      <td>0</td>\n",
              "    </tr>\n",
              "    <tr>\n",
              "      <th>1</th>\n",
              "      <td>2010</td>\n",
              "      <td>1</td>\n",
              "      <td>1</td>\n",
              "      <td>1</td>\n",
              "      <td>NaN</td>\n",
              "      <td>-21</td>\n",
              "      <td>-12.0</td>\n",
              "      <td>1020.0</td>\n",
              "      <td>NW</td>\n",
              "      <td>4.92</td>\n",
              "      <td>0</td>\n",
              "      <td>0</td>\n",
              "    </tr>\n",
              "    <tr>\n",
              "      <th>2</th>\n",
              "      <td>2010</td>\n",
              "      <td>1</td>\n",
              "      <td>1</td>\n",
              "      <td>2</td>\n",
              "      <td>NaN</td>\n",
              "      <td>-21</td>\n",
              "      <td>-11.0</td>\n",
              "      <td>1019.0</td>\n",
              "      <td>NW</td>\n",
              "      <td>6.71</td>\n",
              "      <td>0</td>\n",
              "      <td>0</td>\n",
              "    </tr>\n",
              "    <tr>\n",
              "      <th>3</th>\n",
              "      <td>2010</td>\n",
              "      <td>1</td>\n",
              "      <td>1</td>\n",
              "      <td>3</td>\n",
              "      <td>NaN</td>\n",
              "      <td>-21</td>\n",
              "      <td>-14.0</td>\n",
              "      <td>1019.0</td>\n",
              "      <td>NW</td>\n",
              "      <td>9.84</td>\n",
              "      <td>0</td>\n",
              "      <td>0</td>\n",
              "    </tr>\n",
              "    <tr>\n",
              "      <th>4</th>\n",
              "      <td>2010</td>\n",
              "      <td>1</td>\n",
              "      <td>1</td>\n",
              "      <td>4</td>\n",
              "      <td>NaN</td>\n",
              "      <td>-20</td>\n",
              "      <td>-12.0</td>\n",
              "      <td>1018.0</td>\n",
              "      <td>NW</td>\n",
              "      <td>12.97</td>\n",
              "      <td>0</td>\n",
              "      <td>0</td>\n",
              "    </tr>\n",
              "  </tbody>\n",
              "</table>\n",
              "</div>"
            ],
            "text/plain": [
              "   year  month  day  hour  pm2.5  DEWP  TEMP    PRES cbwd    Iws  Is  Ir\n",
              "0  2010      1    1     0    NaN   -21 -11.0  1021.0   NW   1.79   0   0\n",
              "1  2010      1    1     1    NaN   -21 -12.0  1020.0   NW   4.92   0   0\n",
              "2  2010      1    1     2    NaN   -21 -11.0  1019.0   NW   6.71   0   0\n",
              "3  2010      1    1     3    NaN   -21 -14.0  1019.0   NW   9.84   0   0\n",
              "4  2010      1    1     4    NaN   -20 -12.0  1018.0   NW  12.97   0   0"
            ]
          },
          "metadata": {},
          "execution_count": 2
        }
      ]
    },
    {
      "cell_type": "markdown",
      "metadata": {
        "id": "-KEluu5wxdCZ"
      },
      "source": [
        "# Dropping Missing Value Rows"
      ]
    },
    {
      "cell_type": "code",
      "metadata": {
        "id": "bmISlKLlxbyk"
      },
      "source": [
        "df.dropna(inplace=True)"
      ],
      "execution_count": null,
      "outputs": []
    },
    {
      "cell_type": "markdown",
      "metadata": {
        "id": "ayRdhjcpxif1"
      },
      "source": [
        "# Encoding Categorical Columns"
      ]
    },
    {
      "cell_type": "code",
      "metadata": {
        "id": "9nC2LM2n1F5-"
      },
      "source": [
        "cols = ['year','cbwd']\n",
        "label_encoder = LabelEncoder() \n",
        "df[cols] = df[cols].apply(label_encoder.fit_transform)"
      ],
      "execution_count": null,
      "outputs": []
    },
    {
      "cell_type": "code",
      "metadata": {
        "id": "Yx5U-ZgOwgVW"
      },
      "source": [
        "y = df['month']\n",
        "X = df.drop(columns=['month'])"
      ],
      "execution_count": null,
      "outputs": []
    },
    {
      "cell_type": "markdown",
      "metadata": {
        "id": "DTobKrcwmTc4"
      },
      "source": [
        "# Splitting Dataset Into Train, Validation and Test Sets"
      ]
    },
    {
      "cell_type": "code",
      "metadata": {
        "id": "Juv_C9XCkT3D"
      },
      "source": [
        "def train_val_test_split(data,random_state,val_size=0.15,test_size=0.15):\n",
        "  \"\"\"\n",
        "  Train Valdiation Test split implemented from scratch. Takes the dataset,\n",
        "  val_size, test_size and random_state as parameters and returns the train,\n",
        "  validation and test sets.\n",
        "\n",
        "  Calculates the length of train, test and validation sets, shuffles the \n",
        "  dataset and returns the 3 sets.\n",
        "  \"\"\"\n",
        "  \n",
        "  shuffled_data = data.sample(frac=1,random_state=random_state)\n",
        "\n",
        "  val_size = int(len(data)*val_size)\n",
        "  test_size = int(len(data)*test_size)\n",
        "  train_size = len(data)-val_size-test_size\n",
        "\n",
        "  train = shuffled_data[:train_size]\n",
        "  val = shuffled_data[train_size:train_size+val_size]\n",
        "  test = shuffled_data[train_size+val_size:]\n",
        "\n",
        "  return train,val,test"
      ],
      "execution_count": null,
      "outputs": []
    },
    {
      "cell_type": "code",
      "metadata": {
        "id": "zrsU6li-ny_-"
      },
      "source": [
        "df_train, df_val, df_test = train_val_test_split(df,random_state=42)"
      ],
      "execution_count": null,
      "outputs": []
    },
    {
      "cell_type": "markdown",
      "metadata": {
        "id": "CCxwQVWRu2Qr"
      },
      "source": [
        "# Splitting Into X and y values"
      ]
    },
    {
      "cell_type": "code",
      "metadata": {
        "id": "uK2vSVbK7cWP"
      },
      "source": [
        "y_train = df_train['month']\n",
        "X_train = df_train.drop(columns=['month'])\n",
        "\n",
        "y_val = df_val['month']\n",
        "X_val = df_val.drop(columns=['month'])\n",
        "\n",
        "y_test = df_test['month']\n",
        "X_test = df_test.drop(columns=['month'])"
      ],
      "execution_count": null,
      "outputs": []
    },
    {
      "cell_type": "code",
      "metadata": {
        "id": "Pv63ng35pdqE"
      },
      "source": [
        "def accuracy(y_true,y_pred):\n",
        "  y_true = y_true.to_numpy()\n",
        "  return np.sum(y_true==y_pred)/len(y_true)"
      ],
      "execution_count": null,
      "outputs": []
    },
    {
      "cell_type": "markdown",
      "metadata": {
        "id": "RkAioIALsiR9"
      },
      "source": [
        "# A. Training Decision Tree Model"
      ]
    },
    {
      "cell_type": "code",
      "metadata": {
        "id": "4X4Sp50d_Fdl"
      },
      "source": [
        "def train_predict_evaluate(model):\n",
        "  model.fit(X_train,y_train)\n",
        "  y_pred = model.predict(X_test)\n",
        "  print(\"Accuracy: \",accuracy(y_test,y_pred))"
      ],
      "execution_count": null,
      "outputs": []
    },
    {
      "cell_type": "code",
      "metadata": {
        "id": "0EwPJ2qz_hHm",
        "colab": {
          "base_uri": "https://localhost:8080/"
        },
        "outputId": "1ff17208-cb50-4755-f46c-d3e1a59b6dff"
      },
      "source": [
        "train_predict_evaluate(DecisionTreeClassifier(criterion='gini',random_state=0))"
      ],
      "execution_count": null,
      "outputs": [
        {
          "output_type": "stream",
          "name": "stdout",
          "text": [
            "Accuracy:  0.8227686412262494\n"
          ]
        }
      ]
    },
    {
      "cell_type": "code",
      "metadata": {
        "id": "oRNVC13p_lVC",
        "colab": {
          "base_uri": "https://localhost:8080/"
        },
        "outputId": "1879db1d-e03b-48be-cbef-c948b7908454"
      },
      "source": [
        "train_predict_evaluate(DecisionTreeClassifier(criterion='entropy',random_state=0))"
      ],
      "execution_count": null,
      "outputs": [
        {
          "output_type": "stream",
          "name": "stdout",
          "text": [
            "Accuracy:  0.8305923678748204\n"
          ]
        }
      ]
    },
    {
      "cell_type": "markdown",
      "metadata": {
        "id": "Mn1evtP3GoP6"
      },
      "source": [
        "# B. Training Decision Tree Model on Different Max Depths"
      ]
    },
    {
      "cell_type": "code",
      "metadata": {
        "id": "30oFIR6Ct8Yp"
      },
      "source": [
        "depths = [2,4,8,10,15,30]\n",
        "train_accuracy = []\n",
        "test_accuracy = []\n",
        "\n",
        "for depth in depths:\n",
        "  decision_tree = DecisionTreeClassifier(criterion='entropy',max_depth=depth,random_state=0)\n",
        "  decision_tree.fit(X_train,y_train)\n",
        "  y_pred_train = decision_tree.predict(X_train)\n",
        "  y_pred_test = decision_tree.predict(X_test)\n",
        "  train_accuracy.append(accuracy(y_train,y_pred_train))\n",
        "  test_accuracy.append(accuracy(y_test,y_pred_test))"
      ],
      "execution_count": null,
      "outputs": []
    },
    {
      "cell_type": "code",
      "metadata": {
        "id": "C0VNMA9Ad4xn",
        "colab": {
          "base_uri": "https://localhost:8080/"
        },
        "outputId": "3f04fdbe-6651-493c-aa8e-8c0947f90bb2"
      },
      "source": [
        "print(\"Train Accuracy: \",train_accuracy)\n",
        "print(\"Test Accuracy: \",test_accuracy)"
      ],
      "execution_count": null,
      "outputs": [
        {
          "output_type": "stream",
          "name": "stdout",
          "text": [
            "Train Accuracy:  [0.27528993192159007, 0.39885737744175703, 0.5873558892956108, 0.7071602066299476, 0.9573398104751805, 1.0]\n",
            "Test Accuracy:  [0.2818138272393422, 0.40268242056522435, 0.5700143701101709, 0.6501676512853265, 0.8064825163659588, 0.8305923678748204]\n"
          ]
        }
      ]
    },
    {
      "cell_type": "code",
      "metadata": {
        "id": "R4tyEsNIJrKz",
        "colab": {
          "base_uri": "https://localhost:8080/",
          "height": 295
        },
        "outputId": "b2eb6fe8-115b-427a-8413-2bb5da0075de"
      },
      "source": [
        "plt.plot(depths,train_accuracy,label='train accuracy')\n",
        "plt.plot(depths,test_accuracy,label='test accuracy')\n",
        "plt.xlabel(\"Depth\")\n",
        "plt.ylabel(\"Accuracy\")\n",
        "plt.title(\"Accuracy vs Depth\")\n",
        "plt.legend()\n",
        "plt.show()"
      ],
      "execution_count": null,
      "outputs": [
        {
          "output_type": "display_data",
          "data": {
            "image/png": "[encoded data removed]",
            "text/plain": [
              "<Figure size 432x288 with 1 Axes>"
            ]
          },
          "metadata": {
            "needs_background": "light"
          }
        }
      ]
    },
    {
      "cell_type": "markdown",
      "metadata": {
        "id": "xzyu5DufNxrP"
      },
      "source": [
        "# C."
      ]
    },
    {
      "cell_type": "code",
      "metadata": {
        "id": "eGBkIfk9Rz3B"
      },
      "source": [
        "def random_selection(data,size=0.5):\n",
        "  \"\"\"\n",
        "  Trains the training data and returns a random 50%.\n",
        "  \"\"\"\n",
        "\n",
        "  shuffled_data = data.sample(frac=0.5)\n",
        "  return shuffled_data"
      ],
      "execution_count": null,
      "outputs": []
    },
    {
      "cell_type": "code",
      "metadata": {
        "id": "3SOe2jVJxXdJ"
      },
      "source": [
        "def ensemble(n_estimators=100,max_depth=3):\n",
        "  \"\"\"\n",
        "  Combines 100 decision tree stumps trained on random 50% of the training data, predicts the\n",
        "  testing samples by taking mode over the predictions.\n",
        "  \"\"\"\n",
        "  predictions = []\n",
        "\n",
        "  for i in range(n_estimators):\n",
        "    data = random_selection(df_train)\n",
        "    y = data['month']\n",
        "    X = data.drop(columns=['month'])\n",
        "    decision_tree = DecisionTreeClassifier(criterion='entropy',max_depth=max_depth,random_state=0)\n",
        "    decision_tree.fit(X,y)\n",
        "    predictions.append(decision_tree.predict(X_test))\n",
        "\n",
        "  y_pred = pd.DataFrame(predictions).T.mode(axis='columns')[0]\n",
        "  y_test_ = y_test.reset_index(drop=True)\n",
        "\n",
        "  print(\"Accuracy: \",accuracy(y_test_,y_pred))"
      ],
      "execution_count": null,
      "outputs": []
    },
    {
      "cell_type": "code",
      "metadata": {
        "id": "iuI8VcPnfnOu",
        "colab": {
          "base_uri": "https://localhost:8080/"
        },
        "outputId": "6bceff4d-3a3f-4b73-ad45-57ad18a02f3f"
      },
      "source": [
        "ensemble()"
      ],
      "execution_count": null,
      "outputs": [
        {
          "output_type": "stream",
          "name": "stdout",
          "text": [
            "Accuracy:  0.3557400606737985\n"
          ]
        }
      ]
    },
    {
      "cell_type": "markdown",
      "metadata": {
        "id": "nzvlzD-EwnNj"
      },
      "source": [
        "# D."
      ]
    },
    {
      "cell_type": "code",
      "metadata": {
        "id": "UMPjs1czETKE"
      },
      "source": [
        "def tuning(n_estimators=100):\n",
        "  \"\"\"\n",
        "  Function for tuning decision stump by changing max depth and n estimators.\n",
        "  Train, Validation and Test Accuracies are returned for different values\n",
        "  of max_depth and n_estimators\n",
        "  \"\"\"\n",
        "  depths = [4,8,10,15,20,30]\n",
        "  results = []\n",
        "  y_test_ = y_test.reset_index(drop=True)\n",
        "\n",
        "  #trains decision tree stumps on different depths, stores the train, test and\n",
        "  # validation predictions\n",
        "\n",
        "  for depth in depths:\n",
        "    predictions_train = []\n",
        "    predictions_val = []\n",
        "    predictions_test = []\n",
        "    for i in range(n_estimators):\n",
        "      data = random_selection(df_train)\n",
        "      y = data['month']\n",
        "      X = data.drop(columns=['month'])\n",
        "      decision_tree = DecisionTreeClassifier(criterion='entropy',max_depth=depth,random_state=0)\n",
        "      decision_tree.fit(X,y)\n",
        "      predictions_train.append(decision_tree.predict(X_train))\n",
        "      predictions_val.append(decision_tree.predict(X_val))\n",
        "      predictions_test.append(decision_tree.predict(X_test))\n",
        "\n",
        "    # takes mode over predictions to find y_pred\n",
        "    num = [4,8,10,15,20,100]\n",
        "    for n in num:\n",
        "      y_pred_train = pd.DataFrame(predictions_train[:n]).T.mode(axis='columns')[0]\n",
        "      y_pred_val = pd.DataFrame(predictions_val[:n]).T.mode(axis='columns')[0]\n",
        "      y_pred_test = pd.DataFrame(predictions_test[:n]).T.mode(axis='columns')[0]\n",
        "      accuracy_train = accuracy(y_train,y_pred_train)\n",
        "      accuracy_val = accuracy(y_val,y_pred_val)\n",
        "      accuracy_test = accuracy(y_test,y_pred_test)\n",
        "      result = {'depth':depth,\n",
        "                      'n_estimator':n,\n",
        "                      'train accuracy':accuracy_train,\n",
        "                      'validation accuracy': accuracy_val,\n",
        "                      'test accuracy': accuracy_test}\n",
        "      print(result)\n",
        "      results.append(result)\n",
        "\n",
        "  return results"
      ],
      "execution_count": null,
      "outputs": []
    },
    {
      "cell_type": "code",
      "metadata": {
        "id": "_2-ef7mQR0CO"
      },
      "source": [
        "def save_and_load_results():\n",
        "  if not os.path.exists(\"D_results.csv\"):\n",
        "    results = tuning()\n",
        "    res = pd.DataFrame.from_dict(results)\n",
        "    res.to_csv('D_results.csv')\n",
        "  return pd.read_csv('D_results.csv',index_col=0)\n",
        "  "
      ],
      "execution_count": null,
      "outputs": []
    },
    {
      "cell_type": "code",
      "metadata": {
        "id": "fNehBZKsSWC9",
        "colab": {
          "base_uri": "https://localhost:8080/"
        },
        "outputId": "3a912718-3df0-49f0-c296-20e73b206fa8"
      },
      "source": [
        "D_results = save_and_load_results()"
      ],
      "execution_count": null,
      "outputs": [
        {
          "output_type": "stream",
          "name": "stdout",
          "text": [
            "{'depth': 4, 'n_estimator': 4, 'train accuracy': 0.39892579795422667, 'validation accuracy': 0.38591729203257225, 'test accuracy': 0.4041194315823088}\n",
            "{'depth': 4, 'n_estimator': 8, 'train accuracy': 0.4071704697068181, 'validation accuracy': 0.4036404279099473, 'test accuracy': 0.4100271435414338}\n",
            "{'depth': 4, 'n_estimator': 10, 'train accuracy': 0.4165098696589237, 'validation accuracy': 0.4089094683059237, 'test accuracy': 0.4208845601149609}\n",
            "{'depth': 4, 'n_estimator': 15, 'train accuracy': 0.4169203927337416, 'validation accuracy': 0.4097078077598595, 'test accuracy': 0.41928788120708926}\n",
            "{'depth': 4, 'n_estimator': 20, 'train accuracy': 0.4153467209469399, 'validation accuracy': 0.4049177710362446, 'test accuracy': 0.4221619032412582}\n",
            "{'depth': 4, 'n_estimator': 100, 'train accuracy': 0.412678320960624, 'validation accuracy': 0.4015647453297142, 'test accuracy': 0.41912821331630207}\n",
            "{'depth': 8, 'n_estimator': 4, 'train accuracy': 0.6270397865280011, 'validation accuracy': 0.5958805684176912, 'test accuracy': 0.6053009739741338}\n",
            "{'depth': 8, 'n_estimator': 8, 'train accuracy': 0.634805514693305, 'validation accuracy': 0.6053009739741338, 'test accuracy': 0.6097716749161743}\n",
            "{'depth': 8, 'n_estimator': 10, 'train accuracy': 0.6404502069720502, 'validation accuracy': 0.6126456969503433, 'test accuracy': 0.6207887593804886}\n",
            "{'depth': 8, 'n_estimator': 15, 'train accuracy': 0.6476685710375971, 'validation accuracy': 0.6223854382883602, 'test accuracy': 0.624141785087019}\n",
            "{'depth': 8, 'n_estimator': 20, 'train accuracy': 0.646368581300674, 'validation accuracy': 0.6220661025067858, 'test accuracy': 0.6273351429027623}\n",
            "{'depth': 8, 'n_estimator': 100, 'train accuracy': 0.6567000786835894, 'validation accuracy': 0.6236627814146575, 'test accuracy': 0.6343605300973975}\n",
            "{'depth': 10, 'n_estimator': 4, 'train accuracy': 0.749101980773836, 'validation accuracy': 0.6870509340571611, 'test accuracy': 0.6969503432859652}\n",
            "{'depth': 10, 'n_estimator': 8, 'train accuracy': 0.7888542985186959, 'validation accuracy': 0.7264889030815903, 'test accuracy': 0.7319176113683539}\n",
            "{'depth': 10, 'n_estimator': 10, 'train accuracy': 0.7942937292600322, 'validation accuracy': 0.7359093086380329, 'test accuracy': 0.737026983873543}\n",
            "{'depth': 10, 'n_estimator': 15, 'train accuracy': 0.8069173138106804, 'validation accuracy': 0.750758422481239, 'test accuracy': 0.7456490499760499}\n",
            "{'depth': 10, 'n_estimator': 20, 'train accuracy': 0.8090383496972392, 'validation accuracy': 0.7557081270956411, 'test accuracy': 0.7515567619351748}\n",
            "{'depth': 10, 'n_estimator': 100, 'train accuracy': 0.8272039957579282, 'validation accuracy': 0.7726329235190803, 'test accuracy': 0.7672042152323167}\n",
            "{'depth': 15, 'n_estimator': 4, 'train accuracy': 0.9354452464848961, 'validation accuracy': 0.8251636595880568, 'test accuracy': 0.8131885677790196}\n",
            "{'depth': 15, 'n_estimator': 8, 'train accuracy': 0.9693134001573672, 'validation accuracy': 0.8658789717387834, 'test accuracy': 0.853744212038959}\n",
            "{'depth': 15, 'n_estimator': 10, 'train accuracy': 0.9761896616605659, 'validation accuracy': 0.8754590451860131, 'test accuracy': 0.864601628612486}\n",
            "{'depth': 15, 'n_estimator': 15, 'train accuracy': 0.9845027539256269, 'validation accuracy': 0.8879131406674118, 'test accuracy': 0.8807280855819895}\n",
            "{'depth': 15, 'n_estimator': 20, 'train accuracy': 0.9881290410865178, 'validation accuracy': 0.8962158709883442, 'test accuracy': 0.8858374580871786}\n",
            "{'depth': 15, 'n_estimator': 100, 'train accuracy': 0.9949368820772467, 'validation accuracy': 0.9105859811591889, 'test accuracy': 0.9059556123263611}\n",
            "{'depth': 20, 'n_estimator': 4, 'train accuracy': 0.9489925079538846, 'validation accuracy': 0.8267603384959284, 'test accuracy': 0.8235669806801852}\n",
            "{'depth': 20, 'n_estimator': 8, 'train accuracy': 0.981663302658137, 'validation accuracy': 0.8714673479163341, 'test accuracy': 0.8617276065783172}\n",
            "{'depth': 20, 'n_estimator': 10, 'train accuracy': 0.9877527282679347, 'validation accuracy': 0.8807280855819895, 'test accuracy': 0.8737026983873543}\n",
            "{'depth': 20, 'n_estimator': 15, 'train accuracy': 0.9936026820840889, 'validation accuracy': 0.8955771994251956, 'test accuracy': 0.8887114801213476}\n",
            "{'depth': 20, 'n_estimator': 20, 'train accuracy': 0.996031610276761, 'validation accuracy': 0.9030815902921923, 'test accuracy': 0.8957368673159828}\n",
            "{'depth': 20, 'n_estimator': 100, 'train accuracy': 0.9996921076938866, 'validation accuracy': 0.9233594124221619, 'test accuracy': 0.9148970142104422}\n",
            "{'depth': 30, 'n_estimator': 4, 'train accuracy': 0.9509082823030345, 'validation accuracy': 0.8251636595880568, 'test accuracy': 0.8167012613763373}\n",
            "{'depth': 30, 'n_estimator': 8, 'train accuracy': 0.9820054052204851, 'validation accuracy': 0.8679546543190164, 'test accuracy': 0.859651923998084}\n",
            "{'depth': 30, 'n_estimator': 10, 'train accuracy': 0.9876158872429954, 'validation accuracy': 0.8768960562030975, 'test accuracy': 0.8730640268242057}\n",
            "{'depth': 30, 'n_estimator': 15, 'train accuracy': 0.9944237282337245, 'validation accuracy': 0.8941401884081112, 'test accuracy': 0.887114801213476}\n",
            "{'depth': 30, 'n_estimator': 20, 'train accuracy': 0.9959974000205262, 'validation accuracy': 0.9018042471658949, 'test accuracy': 0.8938208526265368}\n",
            "{'depth': 30, 'n_estimator': 100, 'train accuracy': 0.9997605282063563, 'validation accuracy': 0.9230400766405876, 'test accuracy': 0.9164936931183139}\n"
          ]
        }
      ]
    },
    {
      "cell_type": "code",
      "metadata": {
        "id": "mP1FHA2hYeM2",
        "colab": {
          "base_uri": "https://localhost:8080/",
          "height": 1000
        },
        "outputId": "3d423d90-611f-432f-f3f0-ce7e2841e043"
      },
      "source": [
        "print(display(D_results))"
      ],
      "execution_count": null,
      "outputs": [
        {
          "output_type": "display_data",
          "data": {
            "text/html": [
              "<div>\n",
              "<style scoped>\n",
              "    .dataframe tbody tr th:only-of-type {\n",
              "        vertical-align: middle;\n",
              "    }\n",
              "\n",
              "    .dataframe tbody tr th {\n",
              "        vertical-align: top;\n",
              "    }\n",
              "\n",
              "    .dataframe thead th {\n",
              "        text-align: right;\n",
              "    }\n",
              "</style>\n",
              "<table border=\"1\" class=\"dataframe\">\n",
              "  <thead>\n",
              "    <tr style=\"text-align: right;\">\n",
              "      <th></th>\n",
              "      <th>depth</th>\n",
              "      <th>n_estimator</th>\n",
              "      <th>train accuracy</th>\n",
              "      <th>validation accuracy</th>\n",
              "      <th>test accuracy</th>\n",
              "    </tr>\n",
              "  </thead>\n",
              "  <tbody>\n",
              "    <tr>\n",
              "      <th>0</th>\n",
              "      <td>4</td>\n",
              "      <td>4</td>\n",
              "      <td>0.398926</td>\n",
              "      <td>0.385917</td>\n",
              "      <td>0.404119</td>\n",
              "    </tr>\n",
              "    <tr>\n",
              "      <th>1</th>\n",
              "      <td>4</td>\n",
              "      <td>8</td>\n",
              "      <td>0.407170</td>\n",
              "      <td>0.403640</td>\n",
              "      <td>0.410027</td>\n",
              "    </tr>\n",
              "    <tr>\n",
              "      <th>2</th>\n",
              "      <td>4</td>\n",
              "      <td>10</td>\n",
              "      <td>0.416510</td>\n",
              "      <td>0.408909</td>\n",
              "      <td>0.420885</td>\n",
              "    </tr>\n",
              "    <tr>\n",
              "      <th>3</th>\n",
              "      <td>4</td>\n",
              "      <td>15</td>\n",
              "      <td>0.416920</td>\n",
              "      <td>0.409708</td>\n",
              "      <td>0.419288</td>\n",
              "    </tr>\n",
              "    <tr>\n",
              "      <th>4</th>\n",
              "      <td>4</td>\n",
              "      <td>20</td>\n",
              "      <td>0.415347</td>\n",
              "      <td>0.404918</td>\n",
              "      <td>0.422162</td>\n",
              "    </tr>\n",
              "    <tr>\n",
              "      <th>5</th>\n",
              "      <td>4</td>\n",
              "      <td>100</td>\n",
              "      <td>0.412678</td>\n",
              "      <td>0.401565</td>\n",
              "      <td>0.419128</td>\n",
              "    </tr>\n",
              "    <tr>\n",
              "      <th>6</th>\n",
              "      <td>8</td>\n",
              "      <td>4</td>\n",
              "      <td>0.627040</td>\n",
              "      <td>0.595881</td>\n",
              "      <td>0.605301</td>\n",
              "    </tr>\n",
              "    <tr>\n",
              "      <th>7</th>\n",
              "      <td>8</td>\n",
              "      <td>8</td>\n",
              "      <td>0.634806</td>\n",
              "      <td>0.605301</td>\n",
              "      <td>0.609772</td>\n",
              "    </tr>\n",
              "    <tr>\n",
              "      <th>8</th>\n",
              "      <td>8</td>\n",
              "      <td>10</td>\n",
              "      <td>0.640450</td>\n",
              "      <td>0.612646</td>\n",
              "      <td>0.620789</td>\n",
              "    </tr>\n",
              "    <tr>\n",
              "      <th>9</th>\n",
              "      <td>8</td>\n",
              "      <td>15</td>\n",
              "      <td>0.647669</td>\n",
              "      <td>0.622385</td>\n",
              "      <td>0.624142</td>\n",
              "    </tr>\n",
              "    <tr>\n",
              "      <th>10</th>\n",
              "      <td>8</td>\n",
              "      <td>20</td>\n",
              "      <td>0.646369</td>\n",
              "      <td>0.622066</td>\n",
              "      <td>0.627335</td>\n",
              "    </tr>\n",
              "    <tr>\n",
              "      <th>11</th>\n",
              "      <td>8</td>\n",
              "      <td>100</td>\n",
              "      <td>0.656700</td>\n",
              "      <td>0.623663</td>\n",
              "      <td>0.634361</td>\n",
              "    </tr>\n",
              "    <tr>\n",
              "      <th>12</th>\n",
              "      <td>10</td>\n",
              "      <td>4</td>\n",
              "      <td>0.749102</td>\n",
              "      <td>0.687051</td>\n",
              "      <td>0.696950</td>\n",
              "    </tr>\n",
              "    <tr>\n",
              "      <th>13</th>\n",
              "      <td>10</td>\n",
              "      <td>8</td>\n",
              "      <td>0.788854</td>\n",
              "      <td>0.726489</td>\n",
              "      <td>0.731918</td>\n",
              "    </tr>\n",
              "    <tr>\n",
              "      <th>14</th>\n",
              "      <td>10</td>\n",
              "      <td>10</td>\n",
              "      <td>0.794294</td>\n",
              "      <td>0.735909</td>\n",
              "      <td>0.737027</td>\n",
              "    </tr>\n",
              "    <tr>\n",
              "      <th>15</th>\n",
              "      <td>10</td>\n",
              "      <td>15</td>\n",
              "      <td>0.806917</td>\n",
              "      <td>0.750758</td>\n",
              "      <td>0.745649</td>\n",
              "    </tr>\n",
              "    <tr>\n",
              "      <th>16</th>\n",
              "      <td>10</td>\n",
              "      <td>20</td>\n",
              "      <td>0.809038</td>\n",
              "      <td>0.755708</td>\n",
              "      <td>0.751557</td>\n",
              "    </tr>\n",
              "    <tr>\n",
              "      <th>17</th>\n",
              "      <td>10</td>\n",
              "      <td>100</td>\n",
              "      <td>0.827204</td>\n",
              "      <td>0.772633</td>\n",
              "      <td>0.767204</td>\n",
              "    </tr>\n",
              "    <tr>\n",
              "      <th>18</th>\n",
              "      <td>15</td>\n",
              "      <td>4</td>\n",
              "      <td>0.935445</td>\n",
              "      <td>0.825164</td>\n",
              "      <td>0.813189</td>\n",
              "    </tr>\n",
              "    <tr>\n",
              "      <th>19</th>\n",
              "      <td>15</td>\n",
              "      <td>8</td>\n",
              "      <td>0.969313</td>\n",
              "      <td>0.865879</td>\n",
              "      <td>0.853744</td>\n",
              "    </tr>\n",
              "    <tr>\n",
              "      <th>20</th>\n",
              "      <td>15</td>\n",
              "      <td>10</td>\n",
              "      <td>0.976190</td>\n",
              "      <td>0.875459</td>\n",
              "      <td>0.864602</td>\n",
              "    </tr>\n",
              "    <tr>\n",
              "      <th>21</th>\n",
              "      <td>15</td>\n",
              "      <td>15</td>\n",
              "      <td>0.984503</td>\n",
              "      <td>0.887913</td>\n",
              "      <td>0.880728</td>\n",
              "    </tr>\n",
              "    <tr>\n",
              "      <th>22</th>\n",
              "      <td>15</td>\n",
              "      <td>20</td>\n",
              "      <td>0.988129</td>\n",
              "      <td>0.896216</td>\n",
              "      <td>0.885837</td>\n",
              "    </tr>\n",
              "    <tr>\n",
              "      <th>23</th>\n",
              "      <td>15</td>\n",
              "      <td>100</td>\n",
              "      <td>0.994937</td>\n",
              "      <td>0.910586</td>\n",
              "      <td>0.905956</td>\n",
              "    </tr>\n",
              "    <tr>\n",
              "      <th>24</th>\n",
              "      <td>20</td>\n",
              "      <td>4</td>\n",
              "      <td>0.948993</td>\n",
              "      <td>0.826760</td>\n",
              "      <td>0.823567</td>\n",
              "    </tr>\n",
              "    <tr>\n",
              "      <th>25</th>\n",
              "      <td>20</td>\n",
              "      <td>8</td>\n",
              "      <td>0.981663</td>\n",
              "      <td>0.871467</td>\n",
              "      <td>0.861728</td>\n",
              "    </tr>\n",
              "    <tr>\n",
              "      <th>26</th>\n",
              "      <td>20</td>\n",
              "      <td>10</td>\n",
              "      <td>0.987753</td>\n",
              "      <td>0.880728</td>\n",
              "      <td>0.873703</td>\n",
              "    </tr>\n",
              "    <tr>\n",
              "      <th>27</th>\n",
              "      <td>20</td>\n",
              "      <td>15</td>\n",
              "      <td>0.993603</td>\n",
              "      <td>0.895577</td>\n",
              "      <td>0.888711</td>\n",
              "    </tr>\n",
              "    <tr>\n",
              "      <th>28</th>\n",
              "      <td>20</td>\n",
              "      <td>20</td>\n",
              "      <td>0.996032</td>\n",
              "      <td>0.903082</td>\n",
              "      <td>0.895737</td>\n",
              "    </tr>\n",
              "    <tr>\n",
              "      <th>29</th>\n",
              "      <td>20</td>\n",
              "      <td>100</td>\n",
              "      <td>0.999692</td>\n",
              "      <td>0.923359</td>\n",
              "      <td>0.914897</td>\n",
              "    </tr>\n",
              "    <tr>\n",
              "      <th>30</th>\n",
              "      <td>30</td>\n",
              "      <td>4</td>\n",
              "      <td>0.950908</td>\n",
              "      <td>0.825164</td>\n",
              "      <td>0.816701</td>\n",
              "    </tr>\n",
              "    <tr>\n",
              "      <th>31</th>\n",
              "      <td>30</td>\n",
              "      <td>8</td>\n",
              "      <td>0.982005</td>\n",
              "      <td>0.867955</td>\n",
              "      <td>0.859652</td>\n",
              "    </tr>\n",
              "    <tr>\n",
              "      <th>32</th>\n",
              "      <td>30</td>\n",
              "      <td>10</td>\n",
              "      <td>0.987616</td>\n",
              "      <td>0.876896</td>\n",
              "      <td>0.873064</td>\n",
              "    </tr>\n",
              "    <tr>\n",
              "      <th>33</th>\n",
              "      <td>30</td>\n",
              "      <td>15</td>\n",
              "      <td>0.994424</td>\n",
              "      <td>0.894140</td>\n",
              "      <td>0.887115</td>\n",
              "    </tr>\n",
              "    <tr>\n",
              "      <th>34</th>\n",
              "      <td>30</td>\n",
              "      <td>20</td>\n",
              "      <td>0.995997</td>\n",
              "      <td>0.901804</td>\n",
              "      <td>0.893821</td>\n",
              "    </tr>\n",
              "    <tr>\n",
              "      <th>35</th>\n",
              "      <td>30</td>\n",
              "      <td>100</td>\n",
              "      <td>0.999761</td>\n",
              "      <td>0.923040</td>\n",
              "      <td>0.916494</td>\n",
              "    </tr>\n",
              "  </tbody>\n",
              "</table>\n",
              "</div>"
            ],
            "text/plain": [
              "    depth  n_estimator  train accuracy  validation accuracy  test accuracy\n",
              "0       4            4        0.398926             0.385917       0.404119\n",
              "1       4            8        0.407170             0.403640       0.410027\n",
              "2       4           10        0.416510             0.408909       0.420885\n",
              "3       4           15        0.416920             0.409708       0.419288\n",
              "4       4           20        0.415347             0.404918       0.422162\n",
              "5       4          100        0.412678             0.401565       0.419128\n",
              "6       8            4        0.627040             0.595881       0.605301\n",
              "7       8            8        0.634806             0.605301       0.609772\n",
              "8       8           10        0.640450             0.612646       0.620789\n",
              "9       8           15        0.647669             0.622385       0.624142\n",
              "10      8           20        0.646369             0.622066       0.627335\n",
              "11      8          100        0.656700             0.623663       0.634361\n",
              "12     10            4        0.749102             0.687051       0.696950\n",
              "13     10            8        0.788854             0.726489       0.731918\n",
              "14     10           10        0.794294             0.735909       0.737027\n",
              "15     10           15        0.806917             0.750758       0.745649\n",
              "16     10           20        0.809038             0.755708       0.751557\n",
              "17     10          100        0.827204             0.772633       0.767204\n",
              "18     15            4        0.935445             0.825164       0.813189\n",
              "19     15            8        0.969313             0.865879       0.853744\n",
              "20     15           10        0.976190             0.875459       0.864602\n",
              "21     15           15        0.984503             0.887913       0.880728\n",
              "22     15           20        0.988129             0.896216       0.885837\n",
              "23     15          100        0.994937             0.910586       0.905956\n",
              "24     20            4        0.948993             0.826760       0.823567\n",
              "25     20            8        0.981663             0.871467       0.861728\n",
              "26     20           10        0.987753             0.880728       0.873703\n",
              "27     20           15        0.993603             0.895577       0.888711\n",
              "28     20           20        0.996032             0.903082       0.895737\n",
              "29     20          100        0.999692             0.923359       0.914897\n",
              "30     30            4        0.950908             0.825164       0.816701\n",
              "31     30            8        0.982005             0.867955       0.859652\n",
              "32     30           10        0.987616             0.876896       0.873064\n",
              "33     30           15        0.994424             0.894140       0.887115\n",
              "34     30           20        0.995997             0.901804       0.893821\n",
              "35     30          100        0.999761             0.923040       0.916494"
            ]
          },
          "metadata": {}
        },
        {
          "output_type": "stream",
          "name": "stdout",
          "text": [
            "None\n"
          ]
        }
      ]
    },
    {
      "cell_type": "markdown",
      "metadata": {
        "id": "wBtw_rjpO9BY"
      },
      "source": [
        "# E."
      ]
    },
    {
      "cell_type": "markdown",
      "metadata": {
        "id": "CuPi2hpDnTMV"
      },
      "source": [
        "#### Adaboost with Decision Tree as base estimator and different n_estimators"
      ]
    },
    {
      "cell_type": "code",
      "metadata": {
        "id": "PW68RKmkO8Zr",
        "colab": {
          "base_uri": "https://localhost:8080/"
        },
        "outputId": "6b63b625-98e2-4200-b682-7a9aa2b0478d"
      },
      "source": [
        "number_of_estimators = [4,8,10,15,20]\n",
        "\n",
        "for num in number_of_estimators:\n",
        "  ada_boost = AdaBoostClassifier(base_estimator=DecisionTreeClassifier(criterion='entropy',random_state=0),n_estimators=num)\n",
        "  ada_boost.fit(X_train,y_train)\n",
        "  y_pred = ada_boost.predict(X_test)\n",
        "  print(\"Accuracy Score for n_estimators = \"+str(num)+\": \"+str(accuracy(y_test,y_pred)))"
      ],
      "execution_count": null,
      "outputs": [
        {
          "output_type": "stream",
          "name": "stdout",
          "text": [
            "Accuracy Score for n_estimators = 4: 0.8286763531853745\n",
            "Accuracy Score for n_estimators = 8: 0.8323487146734792\n",
            "Accuracy Score for n_estimators = 10: 0.8336260577997765\n",
            "Accuracy Score for n_estimators = 15: 0.8315503752195433\n",
            "Accuracy Score for n_estimators = 20: 0.8318697110011177\n"
          ]
        }
      ]
    },
    {
      "cell_type": "code",
      "metadata": {
        "id": "BrYFbSE19nFQ"
      },
      "source": [
        ""
      ],
      "execution_count": null,
      "outputs": []
    }
  ]
}