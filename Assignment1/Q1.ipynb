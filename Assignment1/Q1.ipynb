{
  "nbformat": 4,
  "nbformat_minor": 0,
  "metadata": {
    "colab": {
      "name": "Q1_Final.ipynb",
      "provenance": []
    },
    "kernelspec": {
      "name": "python3",
      "display_name": "Python 3"
    },
    "language_info": {
      "name": "python"
    }
  },
  "cells": [
    {
      "cell_type": "markdown",
      "metadata": {
        "id": "4i2icOZXEkQx"
      },
      "source": [
        "# Importing Modules"
      ]
    },
    {
      "cell_type": "code",
      "metadata": {
        "id": "ZXKy9E5pzX_a"
      },
      "source": [
        "import numpy as np\n",
        "import pandas as pd\n",
        "import math\n",
        "import matplotlib.pyplot as plt\n",
        "import random\n",
        "from sklearn.linear_model import Lasso\n",
        "from sklearn.linear_model import Ridge\n",
        "from sklearn.model_selection import GridSearchCV"
      ],
      "execution_count": null,
      "outputs": []
    },
    {
      "cell_type": "markdown",
      "metadata": {
        "id": "OejlpQ4EEqEm"
      },
      "source": [
        "# Importing The Dataset"
      ]
    },
    {
      "cell_type": "code",
      "metadata": {
        "id": "WRZ_ESUrzZB1"
      },
      "source": [
        "df = pd.read_csv('abalone.data',header=None)"
      ],
      "execution_count": null,
      "outputs": []
    },
    {
      "cell_type": "code",
      "metadata": {
        "colab": {
          "base_uri": "https://localhost:8080/",
          "height": 204
        },
        "id": "Npu_h0kPEuYu",
        "outputId": "d0e46a11-45d3-4250-ab48-17cfa1e83025"
      },
      "source": [
        "df.head()"
      ],
      "execution_count": null,
      "outputs": [
        {
          "output_type": "execute_result",
          "data": {
            "text/html": [
              "<div>\n",
              "<style scoped>\n",
              "    .dataframe tbody tr th:only-of-type {\n",
              "        vertical-align: middle;\n",
              "    }\n",
              "\n",
              "    .dataframe tbody tr th {\n",
              "        vertical-align: top;\n",
              "    }\n",
              "\n",
              "    .dataframe thead th {\n",
              "        text-align: right;\n",
              "    }\n",
              "</style>\n",
              "<table border=\"1\" class=\"dataframe\">\n",
              "  <thead>\n",
              "    <tr style=\"text-align: right;\">\n",
              "      <th></th>\n",
              "      <th>0</th>\n",
              "      <th>1</th>\n",
              "      <th>2</th>\n",
              "      <th>3</th>\n",
              "      <th>4</th>\n",
              "      <th>5</th>\n",
              "      <th>6</th>\n",
              "      <th>7</th>\n",
              "      <th>8</th>\n",
              "    </tr>\n",
              "  </thead>\n",
              "  <tbody>\n",
              "    <tr>\n",
              "      <th>0</th>\n",
              "      <td>M</td>\n",
              "      <td>0.455</td>\n",
              "      <td>0.365</td>\n",
              "      <td>0.095</td>\n",
              "      <td>0.5140</td>\n",
              "      <td>0.2245</td>\n",
              "      <td>0.1010</td>\n",
              "      <td>0.150</td>\n",
              "      <td>15</td>\n",
              "    </tr>\n",
              "    <tr>\n",
              "      <th>1</th>\n",
              "      <td>M</td>\n",
              "      <td>0.350</td>\n",
              "      <td>0.265</td>\n",
              "      <td>0.090</td>\n",
              "      <td>0.2255</td>\n",
              "      <td>0.0995</td>\n",
              "      <td>0.0485</td>\n",
              "      <td>0.070</td>\n",
              "      <td>7</td>\n",
              "    </tr>\n",
              "    <tr>\n",
              "      <th>2</th>\n",
              "      <td>F</td>\n",
              "      <td>0.530</td>\n",
              "      <td>0.420</td>\n",
              "      <td>0.135</td>\n",
              "      <td>0.6770</td>\n",
              "      <td>0.2565</td>\n",
              "      <td>0.1415</td>\n",
              "      <td>0.210</td>\n",
              "      <td>9</td>\n",
              "    </tr>\n",
              "    <tr>\n",
              "      <th>3</th>\n",
              "      <td>M</td>\n",
              "      <td>0.440</td>\n",
              "      <td>0.365</td>\n",
              "      <td>0.125</td>\n",
              "      <td>0.5160</td>\n",
              "      <td>0.2155</td>\n",
              "      <td>0.1140</td>\n",
              "      <td>0.155</td>\n",
              "      <td>10</td>\n",
              "    </tr>\n",
              "    <tr>\n",
              "      <th>4</th>\n",
              "      <td>I</td>\n",
              "      <td>0.330</td>\n",
              "      <td>0.255</td>\n",
              "      <td>0.080</td>\n",
              "      <td>0.2050</td>\n",
              "      <td>0.0895</td>\n",
              "      <td>0.0395</td>\n",
              "      <td>0.055</td>\n",
              "      <td>7</td>\n",
              "    </tr>\n",
              "  </tbody>\n",
              "</table>\n",
              "</div>"
            ],
            "text/plain": [
              "   0      1      2      3       4       5       6      7   8\n",
              "0  M  0.455  0.365  0.095  0.5140  0.2245  0.1010  0.150  15\n",
              "1  M  0.350  0.265  0.090  0.2255  0.0995  0.0485  0.070   7\n",
              "2  F  0.530  0.420  0.135  0.6770  0.2565  0.1415  0.210   9\n",
              "3  M  0.440  0.365  0.125  0.5160  0.2155  0.1140  0.155  10\n",
              "4  I  0.330  0.255  0.080  0.2050  0.0895  0.0395  0.055   7"
            ]
          },
          "metadata": {},
          "execution_count": 3
        }
      ]
    },
    {
      "cell_type": "markdown",
      "metadata": {
        "id": "NKkxP7eKJlAL"
      },
      "source": [
        "# Encoding Categorical Data"
      ]
    },
    {
      "cell_type": "markdown",
      "metadata": {
        "id": "XEBhNcaU3XID"
      },
      "source": [
        "Encoding column 0 with values F, I, M to 0,1,2"
      ]
    },
    {
      "cell_type": "code",
      "metadata": {
        "id": "4fLd5dTiJkt1"
      },
      "source": [
        "from sklearn.preprocessing import LabelEncoder\n",
        "label_encoder = LabelEncoder()\n",
        "df.iloc[:,0] = label_encoder.fit_transform(df.iloc[:,0])"
      ],
      "execution_count": null,
      "outputs": []
    },
    {
      "cell_type": "code",
      "metadata": {
        "colab": {
          "base_uri": "https://localhost:8080/",
          "height": 204
        },
        "id": "H--tpTho17UV",
        "outputId": "70eba653-215e-4601-bd2f-53a2329d1093"
      },
      "source": [
        "df.head()"
      ],
      "execution_count": null,
      "outputs": [
        {
          "output_type": "execute_result",
          "data": {
            "text/html": [
              "<div>\n",
              "<style scoped>\n",
              "    .dataframe tbody tr th:only-of-type {\n",
              "        vertical-align: middle;\n",
              "    }\n",
              "\n",
              "    .dataframe tbody tr th {\n",
              "        vertical-align: top;\n",
              "    }\n",
              "\n",
              "    .dataframe thead th {\n",
              "        text-align: right;\n",
              "    }\n",
              "</style>\n",
              "<table border=\"1\" class=\"dataframe\">\n",
              "  <thead>\n",
              "    <tr style=\"text-align: right;\">\n",
              "      <th></th>\n",
              "      <th>0</th>\n",
              "      <th>1</th>\n",
              "      <th>2</th>\n",
              "      <th>3</th>\n",
              "      <th>4</th>\n",
              "      <th>5</th>\n",
              "      <th>6</th>\n",
              "      <th>7</th>\n",
              "      <th>8</th>\n",
              "    </tr>\n",
              "  </thead>\n",
              "  <tbody>\n",
              "    <tr>\n",
              "      <th>0</th>\n",
              "      <td>2</td>\n",
              "      <td>0.455</td>\n",
              "      <td>0.365</td>\n",
              "      <td>0.095</td>\n",
              "      <td>0.5140</td>\n",
              "      <td>0.2245</td>\n",
              "      <td>0.1010</td>\n",
              "      <td>0.150</td>\n",
              "      <td>15</td>\n",
              "    </tr>\n",
              "    <tr>\n",
              "      <th>1</th>\n",
              "      <td>2</td>\n",
              "      <td>0.350</td>\n",
              "      <td>0.265</td>\n",
              "      <td>0.090</td>\n",
              "      <td>0.2255</td>\n",
              "      <td>0.0995</td>\n",
              "      <td>0.0485</td>\n",
              "      <td>0.070</td>\n",
              "      <td>7</td>\n",
              "    </tr>\n",
              "    <tr>\n",
              "      <th>2</th>\n",
              "      <td>0</td>\n",
              "      <td>0.530</td>\n",
              "      <td>0.420</td>\n",
              "      <td>0.135</td>\n",
              "      <td>0.6770</td>\n",
              "      <td>0.2565</td>\n",
              "      <td>0.1415</td>\n",
              "      <td>0.210</td>\n",
              "      <td>9</td>\n",
              "    </tr>\n",
              "    <tr>\n",
              "      <th>3</th>\n",
              "      <td>2</td>\n",
              "      <td>0.440</td>\n",
              "      <td>0.365</td>\n",
              "      <td>0.125</td>\n",
              "      <td>0.5160</td>\n",
              "      <td>0.2155</td>\n",
              "      <td>0.1140</td>\n",
              "      <td>0.155</td>\n",
              "      <td>10</td>\n",
              "    </tr>\n",
              "    <tr>\n",
              "      <th>4</th>\n",
              "      <td>1</td>\n",
              "      <td>0.330</td>\n",
              "      <td>0.255</td>\n",
              "      <td>0.080</td>\n",
              "      <td>0.2050</td>\n",
              "      <td>0.0895</td>\n",
              "      <td>0.0395</td>\n",
              "      <td>0.055</td>\n",
              "      <td>7</td>\n",
              "    </tr>\n",
              "  </tbody>\n",
              "</table>\n",
              "</div>"
            ],
            "text/plain": [
              "   0      1      2      3       4       5       6      7   8\n",
              "0  2  0.455  0.365  0.095  0.5140  0.2245  0.1010  0.150  15\n",
              "1  2  0.350  0.265  0.090  0.2255  0.0995  0.0485  0.070   7\n",
              "2  0  0.530  0.420  0.135  0.6770  0.2565  0.1415  0.210   9\n",
              "3  2  0.440  0.365  0.125  0.5160  0.2155  0.1140  0.155  10\n",
              "4  1  0.330  0.255  0.080  0.2050  0.0895  0.0395  0.055   7"
            ]
          },
          "metadata": {},
          "execution_count": 5
        }
      ]
    },
    {
      "cell_type": "markdown",
      "metadata": {
        "id": "G5PrGhLjEzqb"
      },
      "source": [
        "# Splitting Dataset Into Train And Test Sets"
      ]
    },
    {
      "cell_type": "code",
      "metadata": {
        "id": "1yXyanQRzdDu"
      },
      "source": [
        "def train_test_split(data,test_size=0.2,random_state=0):\n",
        "  \"\"\"\n",
        "  Train test split implemented from scratch. Takes the dataset, test_size and random_state \n",
        "  as parameters and returns the train and test sets.\n",
        "\n",
        "  Calculates a random index from the dataset, adds it to the test set and removes it from \n",
        "  the dataset. Process continued till test set length is less than test size. \n",
        "  \"\"\"\n",
        "\n",
        "  random.seed(random_state)\n",
        "  test = []\n",
        "  test_size = len(data)*test_size\n",
        "  train = data.copy()\n",
        "\n",
        "  while(test_size>len(test)):\n",
        "    index = random.randrange(len(train))\n",
        "    test.append(train.iloc[index,:].values)\n",
        "    train.drop(index,axis=0,inplace=True)\n",
        "    train.reset_index(drop=True,inplace=True)\n",
        "\n",
        "  test = pd.DataFrame(test)\n",
        "  return train,test"
      ],
      "execution_count": null,
      "outputs": []
    },
    {
      "cell_type": "code",
      "metadata": {
        "id": "Rub2_QayzljS"
      },
      "source": [
        "df_train, df_test = train_test_split(df,test_size=0.2)"
      ],
      "execution_count": null,
      "outputs": []
    },
    {
      "cell_type": "code",
      "metadata": {
        "id": "akTByBvPD0Q5"
      },
      "source": [
        "X_train = df_train.iloc[:,:-1].values\n",
        "y_train = df_train.iloc[:,-1].values\n",
        "y_train = y_train.reshape(len(y_train),1)\n",
        "X_test = df_test.iloc[:,:-1].values\n",
        "y_test = df_test.iloc[:,-1].values\n",
        "y_test = y_test.reshape(len(y_test),1)"
      ],
      "execution_count": null,
      "outputs": []
    },
    {
      "cell_type": "code",
      "metadata": {
        "colab": {
          "base_uri": "https://localhost:8080/"
        },
        "id": "jWHegE0fJLCr",
        "outputId": "aef896ca-ad1d-4228-958c-132ab248240a"
      },
      "source": [
        "print(X_train.shape)\n",
        "print(X_test.shape)\n",
        "print(y_train.shape)\n",
        "print(y_test.shape)"
      ],
      "execution_count": null,
      "outputs": [
        {
          "output_type": "stream",
          "name": "stdout",
          "text": [
            "(3341, 8)\n",
            "(836, 8)\n",
            "(3341, 1)\n",
            "(836, 1)\n"
          ]
        }
      ]
    },
    {
      "cell_type": "markdown",
      "metadata": {
        "id": "TejxiQCVLg8C"
      },
      "source": [
        "# Q1"
      ]
    },
    {
      "cell_type": "markdown",
      "metadata": {
        "id": "QMS8Mjl8MBzf"
      },
      "source": [
        "## Linear Regression Class"
      ]
    },
    {
      "cell_type": "code",
      "metadata": {
        "id": "EnNaIjgtLAl3"
      },
      "source": [
        "class LinearRegression:\n",
        "  \"\"\"\n",
        "  Linear Regression Implemented from scratch using gradient descent algorithm\n",
        "\n",
        "  For Training \n",
        "   1.We iterate over the training dataset and for each iteration we find the \n",
        "      y_predicted value using the dot product of x and theta and adding the \n",
        "      constant term. \n",
        "   2. We then find the gradients of theta and the bias terms and update the \n",
        "      values of theta and bias for each iteration.\n",
        "\n",
        "  For Prediction\n",
        "  We do a dot product of testing dataset X and theta and add the bias term to \n",
        "  it to predict the y values. \n",
        "\n",
        "  \"\"\"\n",
        "  def __init__(self,limit,alpha):\n",
        "    self.limit = limit\n",
        "    self.alpha = alpha\n",
        "    self.constant = 0\n",
        "\n",
        "  def gradient_descent(self,x,y):\n",
        "    m = len(y)\n",
        "    self.theta = np.zeros((x.shape[1],1))\n",
        "\n",
        "    for i in range(self.limit):\n",
        "      y_predicted = np.dot(x,self.theta)+self.constant\n",
        "      self.constant = self.constant - self.alpha*self.gradient_c(y,y_predicted,m)\n",
        "      self.theta = self.theta - self.alpha*self.gradient_m(x,y,y_predicted,m)\n",
        "  \n",
        "  def gradient_m(self,x,y_true,y_predicted,m):\n",
        "    return np.dot(x.T,y_predicted-y_true)*2/m\n",
        "\n",
        "  def gradient_c(self,y_true,y_predicted,m):\n",
        "    return np.sum(y_predicted-y_true)*2/m\n",
        "  \n",
        "  def root_mean_square_error(self,y_true, y_predicted):\n",
        "    return math.sqrt(sum(np.square(y_true-y_predicted))/len(y_true))\n",
        "\n",
        "  def predict(self,X_test):\n",
        "    return np.dot(X_test, self.theta)+self.constant"
      ],
      "execution_count": null,
      "outputs": []
    },
    {
      "cell_type": "markdown",
      "metadata": {
        "id": "3J0ymoF37iYy"
      },
      "source": [
        "## Performing Linear Regression"
      ]
    },
    {
      "cell_type": "code",
      "metadata": {
        "id": "Q6TlMJyuLnyZ"
      },
      "source": [
        "linear_regression = LinearRegression(40000,0.1)\n",
        "linear_regression.gradient_descent(X_train,y_train)"
      ],
      "execution_count": null,
      "outputs": []
    },
    {
      "cell_type": "markdown",
      "metadata": {
        "id": "xlsPdfC3-Xtu"
      },
      "source": [
        "## RMSE On Training and Testing Data"
      ]
    },
    {
      "cell_type": "code",
      "metadata": {
        "id": "rwvL9csf2-vT",
        "colab": {
          "base_uri": "https://localhost:8080/"
        },
        "outputId": "75cb16e7-3540-4715-b6f9-1e3dcc42adf2"
      },
      "source": [
        "y_predicted_test = linear_regression.predict(X_test)\n",
        "y_predicted_train = linear_regression.predict(X_train)\n",
        "print(\"Root Mean Squared Error\")\n",
        "print(\"Train \",linear_regression.root_mean_square_error(y_train,y_predicted_train))\n",
        "print(\"Test \",linear_regression.root_mean_square_error(y_test,y_predicted_test))"
      ],
      "execution_count": null,
      "outputs": [
        {
          "output_type": "stream",
          "name": "stdout",
          "text": [
            "Root Mean Squared Error\n",
            "Train  2.1917792438562023\n",
            "Test  2.3550307203907757\n"
          ]
        }
      ]
    },
    {
      "cell_type": "markdown",
      "metadata": {
        "id": "j_jYNNGkANrI"
      },
      "source": [
        "# Q2"
      ]
    },
    {
      "cell_type": "markdown",
      "metadata": {
        "id": "4zH2xw7eRp55"
      },
      "source": [
        "## A"
      ]
    },
    {
      "cell_type": "code",
      "metadata": {
        "id": "7sYzm-aOSKrp"
      },
      "source": [
        "def root_mean_squared_error(y_true, y_predicted):\n",
        "    return math.sqrt(sum(np.square(y_true-y_predicted))/len(y_true))"
      ],
      "execution_count": null,
      "outputs": []
    },
    {
      "cell_type": "code",
      "metadata": {
        "id": "2oGM7nzZSJAE"
      },
      "source": [
        "ridge_errors = []\n",
        "alpha = np.linspace(1e-5,10,500)\n",
        "best_estimator_ridge = {'alpha':0,'rmse':math.inf}\n",
        "best_estimator_lasso = {'alpha':0,'rmse':math.inf}\n",
        "\n",
        "for val in alpha:\n",
        "  ridge_reg = Ridge(alpha=val)\n",
        "  ridge_reg.fit(X_train,y_train)\n",
        "  y_pred_ridge = ridge_reg.predict(X_test)\n",
        "  ridge_errors.append(root_mean_squared_error(y_test,y_pred_ridge))\n",
        "  if(ridge_errors[-1]<best_estimator_ridge['rmse']):\n",
        "    best_estimator_ridge['rmse'] = ridge_errors[-1]\n",
        "    best_estimator_ridge['alpha'] = val\n",
        "    best_estimator_ridge['coeff'] = ridge_reg.coef_\n",
        "  ridge_reg = None\n",
        "\n",
        "lasso_errors = []\n",
        "for val in alpha:\n",
        "  lasso_reg = Lasso(alpha=val)\n",
        "  lasso_reg.fit(X_train,y_train)\n",
        "  y_pred_lasso = lasso_reg.predict(X_test)\n",
        "  y_pred_lasso = y_pred_lasso.reshape(len(y_pred_lasso),1)\n",
        "  lasso_errors.append(root_mean_squared_error(y_test,y_pred_lasso))\n",
        "  if(lasso_errors[-1]<best_estimator_lasso['rmse']):\n",
        "    best_estimator_lasso['rmse'] = lasso_errors[-1]\n",
        "    best_estimator_lasso['alpha'] = val\n",
        "    best_estimator_lasso['coeff'] = lasso_reg.coef_\n",
        "  lasso_reg = None"
      ],
      "execution_count": null,
      "outputs": []
    },
    {
      "cell_type": "code",
      "metadata": {
        "colab": {
          "base_uri": "https://localhost:8080/"
        },
        "id": "IcoNQQa0xMbQ",
        "outputId": "02d4850e-f6a7-43b3-f13e-29539d10ff0d"
      },
      "source": [
        "best_estimator_ridge"
      ],
      "execution_count": null,
      "outputs": [
        {
          "output_type": "execute_result",
          "data": {
            "text/plain": [
              "{'alpha': 1.282573847695391,\n",
              " 'coeff': array([[  0.05188745,   2.7531959 ,   6.80260005,  10.78568595,\n",
              "           6.44183854, -16.43319683,  -5.3326316 ,  10.16730724]]),\n",
              " 'rmse': 2.3009253750557725}"
            ]
          },
          "metadata": {},
          "execution_count": 15
        }
      ]
    },
    {
      "cell_type": "code",
      "metadata": {
        "colab": {
          "base_uri": "https://localhost:8080/"
        },
        "id": "JesfvwQ6x15V",
        "outputId": "ac3b2181-0b70-4b12-c811-55542fb3337c"
      },
      "source": [
        "best_estimator_lasso"
      ],
      "execution_count": null,
      "outputs": [
        {
          "output_type": "execute_result",
          "data": {
            "text/plain": [
              "{'alpha': 1e-05,\n",
              " 'coeff': array([  0.05912666,  -1.42729057,  10.68826337,  23.7601288 ,\n",
              "          8.7365166 , -19.24686393, -10.02253708,   7.49497595]),\n",
              " 'rmse': 2.3866406862721976}"
            ]
          },
          "metadata": {},
          "execution_count": 16
        }
      ]
    },
    {
      "cell_type": "code",
      "metadata": {
        "colab": {
          "base_uri": "https://localhost:8080/",
          "height": 295
        },
        "id": "s3QlVT6eZP-B",
        "outputId": "c3173cb1-e826-499d-bb0d-ff1b1606e713"
      },
      "source": [
        "plt.plot(alpha,ridge_errors)\n",
        "plt.xlabel(\"Alpha\")\n",
        "plt.ylabel(\"RMSE\")\n",
        "plt.title(\"Effect of alpha on testing data's RMSE for Ridge\")\n",
        "plt.show()"
      ],
      "execution_count": null,
      "outputs": [
        {
          "output_type": "display_data",
          "data": {
            "image/png": "[encoded data removed]",
            "text/plain": [
              "<Figure size 432x288 with 1 Axes>"
            ]
          },
          "metadata": {
            "needs_background": "light"
          }
        }
      ]
    },
    {
      "cell_type": "code",
      "metadata": {
        "colab": {
          "base_uri": "https://localhost:8080/",
          "height": 295
        },
        "id": "_PtRUe0TZUud",
        "outputId": "9ec8f86d-10af-4c3a-e1af-a77738b84b9b"
      },
      "source": [
        "plt.plot(alpha,lasso_errors)\n",
        "plt.xlabel(\"Alpha\")\n",
        "plt.ylabel(\"RMSE\")\n",
        "plt.title(\"Effect of alpha on testing data's RMSE for Lasso\")\n",
        "plt.show()"
      ],
      "execution_count": null,
      "outputs": [
        {
          "output_type": "display_data",
          "data": {
            "image/png": "[encoded data removed]",
            "text/plain": [
              "<Figure size 432x288 with 1 Axes>"
            ]
          },
          "metadata": {
            "needs_background": "light"
          }
        }
      ]
    },
    {
      "cell_type": "markdown",
      "metadata": {
        "id": "AQHr4kDqaJWt"
      },
      "source": [
        "## B"
      ]
    },
    {
      "cell_type": "code",
      "metadata": {
        "id": "FGihu2a4aQGc"
      },
      "source": [
        "param_grid = dict(alpha=alpha)"
      ],
      "execution_count": null,
      "outputs": []
    },
    {
      "cell_type": "code",
      "metadata": {
        "colab": {
          "base_uri": "https://localhost:8080/"
        },
        "id": "QJAp4A2wZWnm",
        "outputId": "5d86ebbc-6dad-4565-c54c-b4ad3e5e0e4a"
      },
      "source": [
        "grid_search_ridge = GridSearchCV(estimator=Ridge(),param_grid=param_grid,scoring='neg_root_mean_squared_error')\n",
        "grid_result_ridge = grid_search_ridge.fit(X_train,y_train)\n",
        "print(\"Best Negative RMSE: \",grid_result_ridge.best_score_)\n",
        "print(\"Best Alpha: \",grid_result_ridge.best_params_)\n",
        "print(\"Best Model Coefficients: \",grid_result_ridge.best_estimator_.coef_)"
      ],
      "execution_count": null,
      "outputs": [
        {
          "output_type": "stream",
          "name": "stdout",
          "text": [
            "Best Negative RMSE:  -2.236280173646031\n",
            "Best Alpha:  {'alpha': 0.12025036072144289}\n",
            "Best Model Coefficients:  [[  0.05876589  -0.42352831   9.82225519  21.11722349   8.37414862\n",
            "  -18.89306024  -9.27050044   8.09695838]]\n"
          ]
        }
      ]
    },
    {
      "cell_type": "code",
      "metadata": {
        "colab": {
          "base_uri": "https://localhost:8080/"
        },
        "id": "imMglDJIaLbF",
        "outputId": "0ef019b6-2156-49df-9fe3-53954e797829"
      },
      "source": [
        "grid_search_lasso = GridSearchCV(estimator=Lasso(),param_grid=param_grid,scoring='neg_root_mean_squared_error')\n",
        "grid_result_lasso = grid_search_lasso.fit(X_train,y_train)\n",
        "print('Best Negative RMSE: ', grid_result_lasso.best_score_)\n",
        "print('Best Alpha: ', grid_result_lasso.best_params_)\n",
        "print(\"Best Model Coefficients: \",grid_result_ridge.best_estimator_.coef_)"
      ],
      "execution_count": null,
      "outputs": [
        {
          "output_type": "stream",
          "name": "stdout",
          "text": [
            "Best Negative RMSE:  -2.237444565893175\n",
            "Best Alpha:  {'alpha': 1e-05}\n",
            "Best Model Coefficients:  [[  0.05876589  -0.42352831   9.82225519  21.11722349   8.37414862\n",
            "  -18.89306024  -9.27050044   8.09695838]]\n"
          ]
        }
      ]
    },
    {
      "cell_type": "code",
      "metadata": {
        "id": "xA7xjc3caUVR"
      },
      "source": [
        ""
      ],
      "execution_count": null,
      "outputs": []
    }
  ]
}